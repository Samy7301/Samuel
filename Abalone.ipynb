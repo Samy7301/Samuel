{
 "cells": [
  {
   "cell_type": "markdown",
   "metadata": {},
   "source": [
    "# ABALONE DATA ANALYSIS"
   ]
  },
  {
   "cell_type": "code",
   "execution_count": 1,
   "metadata": {},
   "outputs": [],
   "source": [
    "import pandas as pd\n",
    "import numpy as np\n",
    "import matplotlib.pyplot as plt\n",
    "%matplotlib inline"
   ]
  },
  {
   "cell_type": "code",
   "execution_count": 2,
   "metadata": {
    "collapsed": true
   },
   "outputs": [
    {
     "data": {
      "text/html": [
       "<div>\n",
       "<style scoped>\n",
       "    .dataframe tbody tr th:only-of-type {\n",
       "        vertical-align: middle;\n",
       "    }\n",
       "\n",
       "    .dataframe tbody tr th {\n",
       "        vertical-align: top;\n",
       "    }\n",
       "\n",
       "    .dataframe thead th {\n",
       "        text-align: right;\n",
       "    }\n",
       "</style>\n",
       "<table border=\"1\" class=\"dataframe\">\n",
       "  <thead>\n",
       "    <tr style=\"text-align: right;\">\n",
       "      <th></th>\n",
       "      <th>Sex</th>\n",
       "      <th>Lenght</th>\n",
       "      <th>Diameter</th>\n",
       "      <th>Height</th>\n",
       "      <th>Whole weight</th>\n",
       "      <th>Shucked weight</th>\n",
       "      <th>Viscera weight</th>\n",
       "      <th>Shell weight</th>\n",
       "      <th>Rings</th>\n",
       "    </tr>\n",
       "  </thead>\n",
       "  <tbody>\n",
       "    <tr>\n",
       "      <th>0</th>\n",
       "      <td>M</td>\n",
       "      <td>0.455</td>\n",
       "      <td>0.365</td>\n",
       "      <td>0.095</td>\n",
       "      <td>0.5140</td>\n",
       "      <td>0.2245</td>\n",
       "      <td>0.1010</td>\n",
       "      <td>0.150</td>\n",
       "      <td>15</td>\n",
       "    </tr>\n",
       "    <tr>\n",
       "      <th>1</th>\n",
       "      <td>M</td>\n",
       "      <td>0.350</td>\n",
       "      <td>0.265</td>\n",
       "      <td>0.090</td>\n",
       "      <td>0.2255</td>\n",
       "      <td>0.0995</td>\n",
       "      <td>0.0485</td>\n",
       "      <td>0.070</td>\n",
       "      <td>7</td>\n",
       "    </tr>\n",
       "    <tr>\n",
       "      <th>2</th>\n",
       "      <td>F</td>\n",
       "      <td>0.530</td>\n",
       "      <td>0.420</td>\n",
       "      <td>0.135</td>\n",
       "      <td>0.6770</td>\n",
       "      <td>0.2565</td>\n",
       "      <td>0.1415</td>\n",
       "      <td>0.210</td>\n",
       "      <td>9</td>\n",
       "    </tr>\n",
       "    <tr>\n",
       "      <th>3</th>\n",
       "      <td>M</td>\n",
       "      <td>0.440</td>\n",
       "      <td>0.365</td>\n",
       "      <td>0.125</td>\n",
       "      <td>0.5160</td>\n",
       "      <td>0.2155</td>\n",
       "      <td>0.1140</td>\n",
       "      <td>0.155</td>\n",
       "      <td>10</td>\n",
       "    </tr>\n",
       "    <tr>\n",
       "      <th>4</th>\n",
       "      <td>I</td>\n",
       "      <td>0.330</td>\n",
       "      <td>0.255</td>\n",
       "      <td>0.080</td>\n",
       "      <td>0.2050</td>\n",
       "      <td>0.0895</td>\n",
       "      <td>0.0395</td>\n",
       "      <td>0.055</td>\n",
       "      <td>7</td>\n",
       "    </tr>\n",
       "  </tbody>\n",
       "</table>\n",
       "</div>"
      ],
      "text/plain": [
       "  Sex  Lenght  Diameter  Height  Whole weight  Shucked weight  Viscera weight  \\\n",
       "0   M   0.455     0.365   0.095        0.5140          0.2245          0.1010   \n",
       "1   M   0.350     0.265   0.090        0.2255          0.0995          0.0485   \n",
       "2   F   0.530     0.420   0.135        0.6770          0.2565          0.1415   \n",
       "3   M   0.440     0.365   0.125        0.5160          0.2155          0.1140   \n",
       "4   I   0.330     0.255   0.080        0.2050          0.0895          0.0395   \n",
       "\n",
       "   Shell weight  Rings  \n",
       "0         0.150     15  \n",
       "1         0.070      7  \n",
       "2         0.210      9  \n",
       "3         0.155     10  \n",
       "4         0.055      7  "
      ]
     },
     "execution_count": 2,
     "metadata": {},
     "output_type": "execute_result"
    }
   ],
   "source": [
    "#Defining the column and adding it to the dataset.\n",
    "column = ['Sex', 'Lenght', 'Diameter','Height', 'Whole weight', 'Shucked weight', 'Viscera weight', 'Shell weight', 'Rings']\n",
    "path=pd.read_csv('abalone.data.csv', names=column)\n",
    "data=pd.DataFrame(path)\n",
    "data.head()"
   ]
  },
  {
   "cell_type": "code",
   "execution_count": 3,
   "metadata": {
    "collapsed": true
   },
   "outputs": [
    {
     "data": {
      "text/html": [
       "<div>\n",
       "<style scoped>\n",
       "    .dataframe tbody tr th:only-of-type {\n",
       "        vertical-align: middle;\n",
       "    }\n",
       "\n",
       "    .dataframe tbody tr th {\n",
       "        vertical-align: top;\n",
       "    }\n",
       "\n",
       "    .dataframe thead th {\n",
       "        text-align: right;\n",
       "    }\n",
       "</style>\n",
       "<table border=\"1\" class=\"dataframe\">\n",
       "  <thead>\n",
       "    <tr style=\"text-align: right;\">\n",
       "      <th></th>\n",
       "      <th>Sex</th>\n",
       "      <th>Lenght</th>\n",
       "      <th>Diameter</th>\n",
       "      <th>Height</th>\n",
       "      <th>Whole weight</th>\n",
       "      <th>Shucked weight</th>\n",
       "      <th>Viscera weight</th>\n",
       "      <th>Shell weight</th>\n",
       "      <th>Rings</th>\n",
       "    </tr>\n",
       "  </thead>\n",
       "  <tbody>\n",
       "    <tr>\n",
       "      <th>0</th>\n",
       "      <td>M</td>\n",
       "      <td>0.455</td>\n",
       "      <td>0.365</td>\n",
       "      <td>0.095</td>\n",
       "      <td>0.5140</td>\n",
       "      <td>0.2245</td>\n",
       "      <td>0.1010</td>\n",
       "      <td>0.150</td>\n",
       "      <td>16.5</td>\n",
       "    </tr>\n",
       "    <tr>\n",
       "      <th>1</th>\n",
       "      <td>M</td>\n",
       "      <td>0.350</td>\n",
       "      <td>0.265</td>\n",
       "      <td>0.090</td>\n",
       "      <td>0.2255</td>\n",
       "      <td>0.0995</td>\n",
       "      <td>0.0485</td>\n",
       "      <td>0.070</td>\n",
       "      <td>8.5</td>\n",
       "    </tr>\n",
       "    <tr>\n",
       "      <th>2</th>\n",
       "      <td>F</td>\n",
       "      <td>0.530</td>\n",
       "      <td>0.420</td>\n",
       "      <td>0.135</td>\n",
       "      <td>0.6770</td>\n",
       "      <td>0.2565</td>\n",
       "      <td>0.1415</td>\n",
       "      <td>0.210</td>\n",
       "      <td>10.5</td>\n",
       "    </tr>\n",
       "    <tr>\n",
       "      <th>3</th>\n",
       "      <td>M</td>\n",
       "      <td>0.440</td>\n",
       "      <td>0.365</td>\n",
       "      <td>0.125</td>\n",
       "      <td>0.5160</td>\n",
       "      <td>0.2155</td>\n",
       "      <td>0.1140</td>\n",
       "      <td>0.155</td>\n",
       "      <td>11.5</td>\n",
       "    </tr>\n",
       "    <tr>\n",
       "      <th>4</th>\n",
       "      <td>I</td>\n",
       "      <td>0.330</td>\n",
       "      <td>0.255</td>\n",
       "      <td>0.080</td>\n",
       "      <td>0.2050</td>\n",
       "      <td>0.0895</td>\n",
       "      <td>0.0395</td>\n",
       "      <td>0.055</td>\n",
       "      <td>8.5</td>\n",
       "    </tr>\n",
       "  </tbody>\n",
       "</table>\n",
       "</div>"
      ],
      "text/plain": [
       "  Sex  Lenght  Diameter  Height  Whole weight  Shucked weight  Viscera weight  \\\n",
       "0   M   0.455     0.365   0.095        0.5140          0.2245          0.1010   \n",
       "1   M   0.350     0.265   0.090        0.2255          0.0995          0.0485   \n",
       "2   F   0.530     0.420   0.135        0.6770          0.2565          0.1415   \n",
       "3   M   0.440     0.365   0.125        0.5160          0.2155          0.1140   \n",
       "4   I   0.330     0.255   0.080        0.2050          0.0895          0.0395   \n",
       "\n",
       "   Shell weight  Rings  \n",
       "0         0.150   16.5  \n",
       "1         0.070    8.5  \n",
       "2         0.210   10.5  \n",
       "3         0.155   11.5  \n",
       "4         0.055    8.5  "
      ]
     },
     "execution_count": 3,
     "metadata": {},
     "output_type": "execute_result"
    }
   ],
   "source": [
    "ring= np.array(data['Rings']) + 1.5\n",
    "ring.reshape(4177,1)\n",
    "Ring= pd.DataFrame(ring, columns=['Ring'])\n",
    "data['Rings']=Ring\n",
    "data.head()\n",
    "#data['Rings']= ['Ring']"
   ]
  },
  {
   "cell_type": "code",
   "execution_count": 4,
   "metadata": {
    "collapsed": true
   },
   "outputs": [
    {
     "data": {
      "text/html": [
       "<div>\n",
       "<style scoped>\n",
       "    .dataframe tbody tr th:only-of-type {\n",
       "        vertical-align: middle;\n",
       "    }\n",
       "\n",
       "    .dataframe tbody tr th {\n",
       "        vertical-align: top;\n",
       "    }\n",
       "\n",
       "    .dataframe thead th {\n",
       "        text-align: right;\n",
       "    }\n",
       "</style>\n",
       "<table border=\"1\" class=\"dataframe\">\n",
       "  <thead>\n",
       "    <tr style=\"text-align: right;\">\n",
       "      <th></th>\n",
       "      <th>Lenght</th>\n",
       "      <th>Diameter</th>\n",
       "      <th>Height</th>\n",
       "      <th>Whole weight</th>\n",
       "      <th>Shucked weight</th>\n",
       "      <th>Viscera weight</th>\n",
       "      <th>Shell weight</th>\n",
       "      <th>Rings</th>\n",
       "    </tr>\n",
       "    <tr>\n",
       "      <th>Sex</th>\n",
       "      <th></th>\n",
       "      <th></th>\n",
       "      <th></th>\n",
       "      <th></th>\n",
       "      <th></th>\n",
       "      <th></th>\n",
       "      <th></th>\n",
       "      <th></th>\n",
       "    </tr>\n",
       "  </thead>\n",
       "  <tbody>\n",
       "    <tr>\n",
       "      <th>M</th>\n",
       "      <td>0.455</td>\n",
       "      <td>0.365</td>\n",
       "      <td>0.095</td>\n",
       "      <td>0.5140</td>\n",
       "      <td>0.2245</td>\n",
       "      <td>0.1010</td>\n",
       "      <td>0.150</td>\n",
       "      <td>16.5</td>\n",
       "    </tr>\n",
       "    <tr>\n",
       "      <th>M</th>\n",
       "      <td>0.350</td>\n",
       "      <td>0.265</td>\n",
       "      <td>0.090</td>\n",
       "      <td>0.2255</td>\n",
       "      <td>0.0995</td>\n",
       "      <td>0.0485</td>\n",
       "      <td>0.070</td>\n",
       "      <td>8.5</td>\n",
       "    </tr>\n",
       "    <tr>\n",
       "      <th>F</th>\n",
       "      <td>0.530</td>\n",
       "      <td>0.420</td>\n",
       "      <td>0.135</td>\n",
       "      <td>0.6770</td>\n",
       "      <td>0.2565</td>\n",
       "      <td>0.1415</td>\n",
       "      <td>0.210</td>\n",
       "      <td>10.5</td>\n",
       "    </tr>\n",
       "    <tr>\n",
       "      <th>M</th>\n",
       "      <td>0.440</td>\n",
       "      <td>0.365</td>\n",
       "      <td>0.125</td>\n",
       "      <td>0.5160</td>\n",
       "      <td>0.2155</td>\n",
       "      <td>0.1140</td>\n",
       "      <td>0.155</td>\n",
       "      <td>11.5</td>\n",
       "    </tr>\n",
       "    <tr>\n",
       "      <th>I</th>\n",
       "      <td>0.330</td>\n",
       "      <td>0.255</td>\n",
       "      <td>0.080</td>\n",
       "      <td>0.2050</td>\n",
       "      <td>0.0895</td>\n",
       "      <td>0.0395</td>\n",
       "      <td>0.055</td>\n",
       "      <td>8.5</td>\n",
       "    </tr>\n",
       "  </tbody>\n",
       "</table>\n",
       "</div>"
      ],
      "text/plain": [
       "     Lenght  Diameter  Height  Whole weight  Shucked weight  Viscera weight  \\\n",
       "Sex                                                                           \n",
       "M     0.455     0.365   0.095        0.5140          0.2245          0.1010   \n",
       "M     0.350     0.265   0.090        0.2255          0.0995          0.0485   \n",
       "F     0.530     0.420   0.135        0.6770          0.2565          0.1415   \n",
       "M     0.440     0.365   0.125        0.5160          0.2155          0.1140   \n",
       "I     0.330     0.255   0.080        0.2050          0.0895          0.0395   \n",
       "\n",
       "     Shell weight  Rings  \n",
       "Sex                       \n",
       "M           0.150   16.5  \n",
       "M           0.070    8.5  \n",
       "F           0.210   10.5  \n",
       "M           0.155   11.5  \n",
       "I           0.055    8.5  "
      ]
     },
     "execution_count": 4,
     "metadata": {},
     "output_type": "execute_result"
    }
   ],
   "source": [
    "dat= data.set_index('Sex')\n",
    "dat.head()"
   ]
  },
  {
   "cell_type": "code",
   "execution_count": 5,
   "metadata": {
    "collapsed": true
   },
   "outputs": [
    {
     "data": {
      "text/html": [
       "<div>\n",
       "<style scoped>\n",
       "    .dataframe tbody tr th:only-of-type {\n",
       "        vertical-align: middle;\n",
       "    }\n",
       "\n",
       "    .dataframe tbody tr th {\n",
       "        vertical-align: top;\n",
       "    }\n",
       "\n",
       "    .dataframe thead th {\n",
       "        text-align: right;\n",
       "    }\n",
       "</style>\n",
       "<table border=\"1\" class=\"dataframe\">\n",
       "  <thead>\n",
       "    <tr style=\"text-align: right;\">\n",
       "      <th></th>\n",
       "      <th>Lenght</th>\n",
       "      <th>Diameter</th>\n",
       "      <th>Height</th>\n",
       "      <th>Whole weight</th>\n",
       "      <th>Shucked weight</th>\n",
       "      <th>Viscera weight</th>\n",
       "      <th>Shell weight</th>\n",
       "      <th>Rings</th>\n",
       "    </tr>\n",
       "    <tr>\n",
       "      <th>Sex</th>\n",
       "      <th></th>\n",
       "      <th></th>\n",
       "      <th></th>\n",
       "      <th></th>\n",
       "      <th></th>\n",
       "      <th></th>\n",
       "      <th></th>\n",
       "      <th></th>\n",
       "    </tr>\n",
       "  </thead>\n",
       "  <tbody>\n",
       "    <tr>\n",
       "      <th>I</th>\n",
       "      <td>0.075</td>\n",
       "      <td>0.055</td>\n",
       "      <td>0.010</td>\n",
       "      <td>0.0020</td>\n",
       "      <td>0.0010</td>\n",
       "      <td>0.0005</td>\n",
       "      <td>0.0015</td>\n",
       "      <td>2.5</td>\n",
       "    </tr>\n",
       "    <tr>\n",
       "      <th>I</th>\n",
       "      <td>0.150</td>\n",
       "      <td>0.100</td>\n",
       "      <td>0.025</td>\n",
       "      <td>0.0150</td>\n",
       "      <td>0.0045</td>\n",
       "      <td>0.0040</td>\n",
       "      <td>0.0050</td>\n",
       "      <td>3.5</td>\n",
       "    </tr>\n",
       "    <tr>\n",
       "      <th>M</th>\n",
       "      <td>0.210</td>\n",
       "      <td>0.150</td>\n",
       "      <td>0.050</td>\n",
       "      <td>0.0385</td>\n",
       "      <td>0.0155</td>\n",
       "      <td>0.0085</td>\n",
       "      <td>0.0100</td>\n",
       "      <td>4.5</td>\n",
       "    </tr>\n",
       "    <tr>\n",
       "      <th>I</th>\n",
       "      <td>0.215</td>\n",
       "      <td>0.150</td>\n",
       "      <td>0.055</td>\n",
       "      <td>0.0410</td>\n",
       "      <td>0.0150</td>\n",
       "      <td>0.0090</td>\n",
       "      <td>0.0125</td>\n",
       "      <td>4.5</td>\n",
       "    </tr>\n",
       "    <tr>\n",
       "      <th>I</th>\n",
       "      <td>0.165</td>\n",
       "      <td>0.120</td>\n",
       "      <td>0.030</td>\n",
       "      <td>0.0215</td>\n",
       "      <td>0.0070</td>\n",
       "      <td>0.0050</td>\n",
       "      <td>0.0050</td>\n",
       "      <td>4.5</td>\n",
       "    </tr>\n",
       "  </tbody>\n",
       "</table>\n",
       "</div>"
      ],
      "text/plain": [
       "     Lenght  Diameter  Height  Whole weight  Shucked weight  Viscera weight  \\\n",
       "Sex                                                                           \n",
       "I     0.075     0.055   0.010        0.0020          0.0010          0.0005   \n",
       "I     0.150     0.100   0.025        0.0150          0.0045          0.0040   \n",
       "M     0.210     0.150   0.050        0.0385          0.0155          0.0085   \n",
       "I     0.215     0.150   0.055        0.0410          0.0150          0.0090   \n",
       "I     0.165     0.120   0.030        0.0215          0.0070          0.0050   \n",
       "\n",
       "     Shell weight  Rings  \n",
       "Sex                       \n",
       "I          0.0015    2.5  \n",
       "I          0.0050    3.5  \n",
       "M          0.0100    4.5  \n",
       "I          0.0125    4.5  \n",
       "I          0.0050    4.5  "
      ]
     },
     "execution_count": 5,
     "metadata": {},
     "output_type": "execute_result"
    }
   ],
   "source": [
    "dat.sort_values(by=['Rings'], ascending=True).head()"
   ]
  },
  {
   "cell_type": "markdown",
   "metadata": {},
   "source": [
    "SEPAPARATING THE SEX TYPE"
   ]
  },
  {
   "cell_type": "code",
   "execution_count": 60,
   "metadata": {
    "collapsed": true
   },
   "outputs": [
    {
     "data": {
      "text/html": [
       "<div>\n",
       "<style scoped>\n",
       "    .dataframe tbody tr th:only-of-type {\n",
       "        vertical-align: middle;\n",
       "    }\n",
       "\n",
       "    .dataframe tbody tr th {\n",
       "        vertical-align: top;\n",
       "    }\n",
       "\n",
       "    .dataframe thead th {\n",
       "        text-align: right;\n",
       "    }\n",
       "</style>\n",
       "<table border=\"1\" class=\"dataframe\">\n",
       "  <thead>\n",
       "    <tr style=\"text-align: right;\">\n",
       "      <th></th>\n",
       "      <th>Lenght</th>\n",
       "      <th>Diameter</th>\n",
       "      <th>Height</th>\n",
       "      <th>Whole weight</th>\n",
       "      <th>Shucked weight</th>\n",
       "      <th>Viscera weight</th>\n",
       "      <th>Shell weight</th>\n",
       "      <th>Rings</th>\n",
       "    </tr>\n",
       "    <tr>\n",
       "      <th>Sex</th>\n",
       "      <th></th>\n",
       "      <th></th>\n",
       "      <th></th>\n",
       "      <th></th>\n",
       "      <th></th>\n",
       "      <th></th>\n",
       "      <th></th>\n",
       "      <th></th>\n",
       "    </tr>\n",
       "  </thead>\n",
       "  <tbody>\n",
       "    <tr>\n",
       "      <th>F</th>\n",
       "      <td>0.370</td>\n",
       "      <td>0.275</td>\n",
       "      <td>0.085</td>\n",
       "      <td>0.2405</td>\n",
       "      <td>0.1040</td>\n",
       "      <td>0.0535</td>\n",
       "      <td>0.0700</td>\n",
       "      <td>6.5</td>\n",
       "    </tr>\n",
       "    <tr>\n",
       "      <th>F</th>\n",
       "      <td>0.290</td>\n",
       "      <td>0.225</td>\n",
       "      <td>0.075</td>\n",
       "      <td>0.1400</td>\n",
       "      <td>0.0515</td>\n",
       "      <td>0.0235</td>\n",
       "      <td>0.0400</td>\n",
       "      <td>6.5</td>\n",
       "    </tr>\n",
       "    <tr>\n",
       "      <th>F</th>\n",
       "      <td>0.360</td>\n",
       "      <td>0.270</td>\n",
       "      <td>0.090</td>\n",
       "      <td>0.1885</td>\n",
       "      <td>0.0845</td>\n",
       "      <td>0.0385</td>\n",
       "      <td>0.0550</td>\n",
       "      <td>6.5</td>\n",
       "    </tr>\n",
       "    <tr>\n",
       "      <th>F</th>\n",
       "      <td>0.275</td>\n",
       "      <td>0.195</td>\n",
       "      <td>0.070</td>\n",
       "      <td>0.0800</td>\n",
       "      <td>0.0310</td>\n",
       "      <td>0.0215</td>\n",
       "      <td>0.0250</td>\n",
       "      <td>6.5</td>\n",
       "    </tr>\n",
       "    <tr>\n",
       "      <th>F</th>\n",
       "      <td>0.445</td>\n",
       "      <td>0.335</td>\n",
       "      <td>0.110</td>\n",
       "      <td>0.4355</td>\n",
       "      <td>0.2025</td>\n",
       "      <td>0.1095</td>\n",
       "      <td>0.1195</td>\n",
       "      <td>7.5</td>\n",
       "    </tr>\n",
       "  </tbody>\n",
       "</table>\n",
       "</div>"
      ],
      "text/plain": [
       "     Lenght  Diameter  Height  Whole weight  Shucked weight  Viscera weight  \\\n",
       "Sex                                                                           \n",
       "F     0.370     0.275   0.085        0.2405          0.1040          0.0535   \n",
       "F     0.290     0.225   0.075        0.1400          0.0515          0.0235   \n",
       "F     0.360     0.270   0.090        0.1885          0.0845          0.0385   \n",
       "F     0.275     0.195   0.070        0.0800          0.0310          0.0215   \n",
       "F     0.445     0.335   0.110        0.4355          0.2025          0.1095   \n",
       "\n",
       "     Shell weight  Rings  \n",
       "Sex                       \n",
       "F          0.0700    6.5  \n",
       "F          0.0400    6.5  \n",
       "F          0.0550    6.5  \n",
       "F          0.0250    6.5  \n",
       "F          0.1195    7.5  "
      ]
     },
     "execution_count": 60,
     "metadata": {},
     "output_type": "execute_result"
    }
   ],
   "source": [
    "dat1=dat.loc['F'].sort_values(by=['Rings'], ascending=True)\n",
    "dat1.head()"
   ]
  },
  {
   "cell_type": "code",
   "execution_count": 61,
   "metadata": {
    "collapsed": true
   },
   "outputs": [
    {
     "data": {
      "text/html": [
       "<div>\n",
       "<style scoped>\n",
       "    .dataframe tbody tr th:only-of-type {\n",
       "        vertical-align: middle;\n",
       "    }\n",
       "\n",
       "    .dataframe tbody tr th {\n",
       "        vertical-align: top;\n",
       "    }\n",
       "\n",
       "    .dataframe thead th {\n",
       "        text-align: right;\n",
       "    }\n",
       "</style>\n",
       "<table border=\"1\" class=\"dataframe\">\n",
       "  <thead>\n",
       "    <tr style=\"text-align: right;\">\n",
       "      <th></th>\n",
       "      <th>Lenght</th>\n",
       "      <th>Diameter</th>\n",
       "      <th>Height</th>\n",
       "      <th>Whole weight</th>\n",
       "      <th>Shucked weight</th>\n",
       "      <th>Viscera weight</th>\n",
       "      <th>Shell weight</th>\n",
       "      <th>Rings</th>\n",
       "    </tr>\n",
       "  </thead>\n",
       "  <tbody>\n",
       "    <tr>\n",
       "      <th>count</th>\n",
       "      <td>1307.000000</td>\n",
       "      <td>1307.000000</td>\n",
       "      <td>1307.000000</td>\n",
       "      <td>1307.000000</td>\n",
       "      <td>1307.000000</td>\n",
       "      <td>1307.000000</td>\n",
       "      <td>1307.000000</td>\n",
       "      <td>1307.000000</td>\n",
       "    </tr>\n",
       "    <tr>\n",
       "      <th>mean</th>\n",
       "      <td>0.579093</td>\n",
       "      <td>0.454732</td>\n",
       "      <td>0.158011</td>\n",
       "      <td>1.046532</td>\n",
       "      <td>0.446188</td>\n",
       "      <td>0.230689</td>\n",
       "      <td>0.302010</td>\n",
       "      <td>12.629304</td>\n",
       "    </tr>\n",
       "    <tr>\n",
       "      <th>std</th>\n",
       "      <td>0.086160</td>\n",
       "      <td>0.070954</td>\n",
       "      <td>0.039984</td>\n",
       "      <td>0.430316</td>\n",
       "      <td>0.198663</td>\n",
       "      <td>0.097617</td>\n",
       "      <td>0.125649</td>\n",
       "      <td>3.104256</td>\n",
       "    </tr>\n",
       "    <tr>\n",
       "      <th>min</th>\n",
       "      <td>0.275000</td>\n",
       "      <td>0.195000</td>\n",
       "      <td>0.015000</td>\n",
       "      <td>0.080000</td>\n",
       "      <td>0.031000</td>\n",
       "      <td>0.021000</td>\n",
       "      <td>0.025000</td>\n",
       "      <td>6.500000</td>\n",
       "    </tr>\n",
       "    <tr>\n",
       "      <th>25%</th>\n",
       "      <td>0.525000</td>\n",
       "      <td>0.410000</td>\n",
       "      <td>0.140000</td>\n",
       "      <td>0.730000</td>\n",
       "      <td>0.295000</td>\n",
       "      <td>0.159000</td>\n",
       "      <td>0.213250</td>\n",
       "      <td>10.500000</td>\n",
       "    </tr>\n",
       "    <tr>\n",
       "      <th>50%</th>\n",
       "      <td>0.590000</td>\n",
       "      <td>0.465000</td>\n",
       "      <td>0.160000</td>\n",
       "      <td>1.038500</td>\n",
       "      <td>0.440500</td>\n",
       "      <td>0.224000</td>\n",
       "      <td>0.295000</td>\n",
       "      <td>11.500000</td>\n",
       "    </tr>\n",
       "    <tr>\n",
       "      <th>75%</th>\n",
       "      <td>0.640000</td>\n",
       "      <td>0.505000</td>\n",
       "      <td>0.175000</td>\n",
       "      <td>1.320250</td>\n",
       "      <td>0.573250</td>\n",
       "      <td>0.297250</td>\n",
       "      <td>0.375000</td>\n",
       "      <td>13.500000</td>\n",
       "    </tr>\n",
       "    <tr>\n",
       "      <th>max</th>\n",
       "      <td>0.815000</td>\n",
       "      <td>0.650000</td>\n",
       "      <td>1.130000</td>\n",
       "      <td>2.657000</td>\n",
       "      <td>1.488000</td>\n",
       "      <td>0.590000</td>\n",
       "      <td>1.005000</td>\n",
       "      <td>30.500000</td>\n",
       "    </tr>\n",
       "  </tbody>\n",
       "</table>\n",
       "</div>"
      ],
      "text/plain": [
       "            Lenght     Diameter       Height  Whole weight  Shucked weight  \\\n",
       "count  1307.000000  1307.000000  1307.000000   1307.000000     1307.000000   \n",
       "mean      0.579093     0.454732     0.158011      1.046532        0.446188   \n",
       "std       0.086160     0.070954     0.039984      0.430316        0.198663   \n",
       "min       0.275000     0.195000     0.015000      0.080000        0.031000   \n",
       "25%       0.525000     0.410000     0.140000      0.730000        0.295000   \n",
       "50%       0.590000     0.465000     0.160000      1.038500        0.440500   \n",
       "75%       0.640000     0.505000     0.175000      1.320250        0.573250   \n",
       "max       0.815000     0.650000     1.130000      2.657000        1.488000   \n",
       "\n",
       "       Viscera weight  Shell weight        Rings  \n",
       "count     1307.000000   1307.000000  1307.000000  \n",
       "mean         0.230689      0.302010    12.629304  \n",
       "std          0.097617      0.125649     3.104256  \n",
       "min          0.021000      0.025000     6.500000  \n",
       "25%          0.159000      0.213250    10.500000  \n",
       "50%          0.224000      0.295000    11.500000  \n",
       "75%          0.297250      0.375000    13.500000  \n",
       "max          0.590000      1.005000    30.500000  "
      ]
     },
     "execution_count": 61,
     "metadata": {},
     "output_type": "execute_result"
    }
   ],
   "source": [
    "dat1_desc = dat1.describe()\n",
    "dat1_desc"
   ]
  },
  {
   "cell_type": "code",
   "execution_count": 62,
   "metadata": {
    "collapsed": true
   },
   "outputs": [
    {
     "data": {
      "text/html": [
       "<div>\n",
       "<style scoped>\n",
       "    .dataframe tbody tr th:only-of-type {\n",
       "        vertical-align: middle;\n",
       "    }\n",
       "\n",
       "    .dataframe tbody tr th {\n",
       "        vertical-align: top;\n",
       "    }\n",
       "\n",
       "    .dataframe thead th {\n",
       "        text-align: right;\n",
       "    }\n",
       "</style>\n",
       "<table border=\"1\" class=\"dataframe\">\n",
       "  <thead>\n",
       "    <tr style=\"text-align: right;\">\n",
       "      <th></th>\n",
       "      <th>Lenght</th>\n",
       "      <th>Diameter</th>\n",
       "      <th>Height</th>\n",
       "      <th>Whole weight</th>\n",
       "      <th>Shucked weight</th>\n",
       "      <th>Viscera weight</th>\n",
       "      <th>Shell weight</th>\n",
       "      <th>Rings</th>\n",
       "    </tr>\n",
       "    <tr>\n",
       "      <th>Sex</th>\n",
       "      <th></th>\n",
       "      <th></th>\n",
       "      <th></th>\n",
       "      <th></th>\n",
       "      <th></th>\n",
       "      <th></th>\n",
       "      <th></th>\n",
       "      <th></th>\n",
       "    </tr>\n",
       "  </thead>\n",
       "  <tbody>\n",
       "    <tr>\n",
       "      <th>I</th>\n",
       "      <td>0.330</td>\n",
       "      <td>0.255</td>\n",
       "      <td>0.080</td>\n",
       "      <td>0.2050</td>\n",
       "      <td>0.0895</td>\n",
       "      <td>0.0395</td>\n",
       "      <td>0.055</td>\n",
       "      <td>8.5</td>\n",
       "    </tr>\n",
       "    <tr>\n",
       "      <th>I</th>\n",
       "      <td>0.425</td>\n",
       "      <td>0.300</td>\n",
       "      <td>0.095</td>\n",
       "      <td>0.3515</td>\n",
       "      <td>0.1410</td>\n",
       "      <td>0.0775</td>\n",
       "      <td>0.120</td>\n",
       "      <td>9.5</td>\n",
       "    </tr>\n",
       "    <tr>\n",
       "      <th>I</th>\n",
       "      <td>0.355</td>\n",
       "      <td>0.280</td>\n",
       "      <td>0.085</td>\n",
       "      <td>0.2905</td>\n",
       "      <td>0.0950</td>\n",
       "      <td>0.0395</td>\n",
       "      <td>0.115</td>\n",
       "      <td>8.5</td>\n",
       "    </tr>\n",
       "    <tr>\n",
       "      <th>I</th>\n",
       "      <td>0.380</td>\n",
       "      <td>0.275</td>\n",
       "      <td>0.100</td>\n",
       "      <td>0.2255</td>\n",
       "      <td>0.0800</td>\n",
       "      <td>0.0490</td>\n",
       "      <td>0.085</td>\n",
       "      <td>11.5</td>\n",
       "    </tr>\n",
       "    <tr>\n",
       "      <th>I</th>\n",
       "      <td>0.240</td>\n",
       "      <td>0.175</td>\n",
       "      <td>0.045</td>\n",
       "      <td>0.0700</td>\n",
       "      <td>0.0315</td>\n",
       "      <td>0.0235</td>\n",
       "      <td>0.020</td>\n",
       "      <td>6.5</td>\n",
       "    </tr>\n",
       "  </tbody>\n",
       "</table>\n",
       "</div>"
      ],
      "text/plain": [
       "     Lenght  Diameter  Height  Whole weight  Shucked weight  Viscera weight  \\\n",
       "Sex                                                                           \n",
       "I     0.330     0.255   0.080        0.2050          0.0895          0.0395   \n",
       "I     0.425     0.300   0.095        0.3515          0.1410          0.0775   \n",
       "I     0.355     0.280   0.085        0.2905          0.0950          0.0395   \n",
       "I     0.380     0.275   0.100        0.2255          0.0800          0.0490   \n",
       "I     0.240     0.175   0.045        0.0700          0.0315          0.0235   \n",
       "\n",
       "     Shell weight  Rings  \n",
       "Sex                       \n",
       "I           0.055    8.5  \n",
       "I           0.120    9.5  \n",
       "I           0.115    8.5  \n",
       "I           0.085   11.5  \n",
       "I           0.020    6.5  "
      ]
     },
     "execution_count": 62,
     "metadata": {},
     "output_type": "execute_result"
    }
   ],
   "source": [
    "dat2 = dat.loc['I']\n",
    "dat2.head()"
   ]
  },
  {
   "cell_type": "code",
   "execution_count": 63,
   "metadata": {
    "collapsed": true
   },
   "outputs": [
    {
     "data": {
      "text/html": [
       "<div>\n",
       "<style scoped>\n",
       "    .dataframe tbody tr th:only-of-type {\n",
       "        vertical-align: middle;\n",
       "    }\n",
       "\n",
       "    .dataframe tbody tr th {\n",
       "        vertical-align: top;\n",
       "    }\n",
       "\n",
       "    .dataframe thead th {\n",
       "        text-align: right;\n",
       "    }\n",
       "</style>\n",
       "<table border=\"1\" class=\"dataframe\">\n",
       "  <thead>\n",
       "    <tr style=\"text-align: right;\">\n",
       "      <th></th>\n",
       "      <th>Lenght</th>\n",
       "      <th>Diameter</th>\n",
       "      <th>Height</th>\n",
       "      <th>Whole weight</th>\n",
       "      <th>Shucked weight</th>\n",
       "      <th>Viscera weight</th>\n",
       "      <th>Shell weight</th>\n",
       "      <th>Rings</th>\n",
       "    </tr>\n",
       "  </thead>\n",
       "  <tbody>\n",
       "    <tr>\n",
       "      <th>count</th>\n",
       "      <td>1342.000000</td>\n",
       "      <td>1342.000000</td>\n",
       "      <td>1342.000000</td>\n",
       "      <td>1342.000000</td>\n",
       "      <td>1342.000000</td>\n",
       "      <td>1342.000000</td>\n",
       "      <td>1342.000000</td>\n",
       "      <td>1342.000000</td>\n",
       "    </tr>\n",
       "    <tr>\n",
       "      <th>mean</th>\n",
       "      <td>0.427746</td>\n",
       "      <td>0.326494</td>\n",
       "      <td>0.107996</td>\n",
       "      <td>0.431363</td>\n",
       "      <td>0.191035</td>\n",
       "      <td>0.092010</td>\n",
       "      <td>0.128182</td>\n",
       "      <td>9.390462</td>\n",
       "    </tr>\n",
       "    <tr>\n",
       "      <th>std</th>\n",
       "      <td>0.108858</td>\n",
       "      <td>0.088109</td>\n",
       "      <td>0.031995</td>\n",
       "      <td>0.286275</td>\n",
       "      <td>0.128405</td>\n",
       "      <td>0.062536</td>\n",
       "      <td>0.084927</td>\n",
       "      <td>2.511554</td>\n",
       "    </tr>\n",
       "    <tr>\n",
       "      <th>min</th>\n",
       "      <td>0.075000</td>\n",
       "      <td>0.055000</td>\n",
       "      <td>0.000000</td>\n",
       "      <td>0.002000</td>\n",
       "      <td>0.001000</td>\n",
       "      <td>0.000500</td>\n",
       "      <td>0.001500</td>\n",
       "      <td>2.500000</td>\n",
       "    </tr>\n",
       "    <tr>\n",
       "      <th>25%</th>\n",
       "      <td>0.360000</td>\n",
       "      <td>0.270000</td>\n",
       "      <td>0.085000</td>\n",
       "      <td>0.205500</td>\n",
       "      <td>0.090000</td>\n",
       "      <td>0.042500</td>\n",
       "      <td>0.064125</td>\n",
       "      <td>7.500000</td>\n",
       "    </tr>\n",
       "    <tr>\n",
       "      <th>50%</th>\n",
       "      <td>0.435000</td>\n",
       "      <td>0.335000</td>\n",
       "      <td>0.110000</td>\n",
       "      <td>0.384000</td>\n",
       "      <td>0.169750</td>\n",
       "      <td>0.080500</td>\n",
       "      <td>0.113000</td>\n",
       "      <td>9.500000</td>\n",
       "    </tr>\n",
       "    <tr>\n",
       "      <th>75%</th>\n",
       "      <td>0.510000</td>\n",
       "      <td>0.390000</td>\n",
       "      <td>0.130000</td>\n",
       "      <td>0.599375</td>\n",
       "      <td>0.270375</td>\n",
       "      <td>0.130000</td>\n",
       "      <td>0.178500</td>\n",
       "      <td>10.500000</td>\n",
       "    </tr>\n",
       "    <tr>\n",
       "      <th>max</th>\n",
       "      <td>0.725000</td>\n",
       "      <td>0.550000</td>\n",
       "      <td>0.220000</td>\n",
       "      <td>2.049500</td>\n",
       "      <td>0.773500</td>\n",
       "      <td>0.440500</td>\n",
       "      <td>0.655000</td>\n",
       "      <td>22.500000</td>\n",
       "    </tr>\n",
       "  </tbody>\n",
       "</table>\n",
       "</div>"
      ],
      "text/plain": [
       "            Lenght     Diameter       Height  Whole weight  Shucked weight  \\\n",
       "count  1342.000000  1342.000000  1342.000000   1342.000000     1342.000000   \n",
       "mean      0.427746     0.326494     0.107996      0.431363        0.191035   \n",
       "std       0.108858     0.088109     0.031995      0.286275        0.128405   \n",
       "min       0.075000     0.055000     0.000000      0.002000        0.001000   \n",
       "25%       0.360000     0.270000     0.085000      0.205500        0.090000   \n",
       "50%       0.435000     0.335000     0.110000      0.384000        0.169750   \n",
       "75%       0.510000     0.390000     0.130000      0.599375        0.270375   \n",
       "max       0.725000     0.550000     0.220000      2.049500        0.773500   \n",
       "\n",
       "       Viscera weight  Shell weight        Rings  \n",
       "count     1342.000000   1342.000000  1342.000000  \n",
       "mean         0.092010      0.128182     9.390462  \n",
       "std          0.062536      0.084927     2.511554  \n",
       "min          0.000500      0.001500     2.500000  \n",
       "25%          0.042500      0.064125     7.500000  \n",
       "50%          0.080500      0.113000     9.500000  \n",
       "75%          0.130000      0.178500    10.500000  \n",
       "max          0.440500      0.655000    22.500000  "
      ]
     },
     "execution_count": 63,
     "metadata": {},
     "output_type": "execute_result"
    }
   ],
   "source": [
    "dat2_desc = dat2.describe()\n",
    "dat2_desc"
   ]
  },
  {
   "cell_type": "code",
   "execution_count": 64,
   "metadata": {
    "collapsed": true
   },
   "outputs": [
    {
     "data": {
      "text/html": [
       "<div>\n",
       "<style scoped>\n",
       "    .dataframe tbody tr th:only-of-type {\n",
       "        vertical-align: middle;\n",
       "    }\n",
       "\n",
       "    .dataframe tbody tr th {\n",
       "        vertical-align: top;\n",
       "    }\n",
       "\n",
       "    .dataframe thead th {\n",
       "        text-align: right;\n",
       "    }\n",
       "</style>\n",
       "<table border=\"1\" class=\"dataframe\">\n",
       "  <thead>\n",
       "    <tr style=\"text-align: right;\">\n",
       "      <th></th>\n",
       "      <th>Lenght</th>\n",
       "      <th>Diameter</th>\n",
       "      <th>Height</th>\n",
       "      <th>Whole weight</th>\n",
       "      <th>Shucked weight</th>\n",
       "      <th>Viscera weight</th>\n",
       "      <th>Shell weight</th>\n",
       "      <th>Rings</th>\n",
       "    </tr>\n",
       "    <tr>\n",
       "      <th>Sex</th>\n",
       "      <th></th>\n",
       "      <th></th>\n",
       "      <th></th>\n",
       "      <th></th>\n",
       "      <th></th>\n",
       "      <th></th>\n",
       "      <th></th>\n",
       "      <th></th>\n",
       "    </tr>\n",
       "  </thead>\n",
       "  <tbody>\n",
       "    <tr>\n",
       "      <th>M</th>\n",
       "      <td>0.455</td>\n",
       "      <td>0.365</td>\n",
       "      <td>0.095</td>\n",
       "      <td>0.5140</td>\n",
       "      <td>0.2245</td>\n",
       "      <td>0.1010</td>\n",
       "      <td>0.150</td>\n",
       "      <td>16.5</td>\n",
       "    </tr>\n",
       "    <tr>\n",
       "      <th>M</th>\n",
       "      <td>0.350</td>\n",
       "      <td>0.265</td>\n",
       "      <td>0.090</td>\n",
       "      <td>0.2255</td>\n",
       "      <td>0.0995</td>\n",
       "      <td>0.0485</td>\n",
       "      <td>0.070</td>\n",
       "      <td>8.5</td>\n",
       "    </tr>\n",
       "    <tr>\n",
       "      <th>M</th>\n",
       "      <td>0.440</td>\n",
       "      <td>0.365</td>\n",
       "      <td>0.125</td>\n",
       "      <td>0.5160</td>\n",
       "      <td>0.2155</td>\n",
       "      <td>0.1140</td>\n",
       "      <td>0.155</td>\n",
       "      <td>11.5</td>\n",
       "    </tr>\n",
       "    <tr>\n",
       "      <th>M</th>\n",
       "      <td>0.475</td>\n",
       "      <td>0.370</td>\n",
       "      <td>0.125</td>\n",
       "      <td>0.5095</td>\n",
       "      <td>0.2165</td>\n",
       "      <td>0.1125</td>\n",
       "      <td>0.165</td>\n",
       "      <td>10.5</td>\n",
       "    </tr>\n",
       "    <tr>\n",
       "      <th>M</th>\n",
       "      <td>0.430</td>\n",
       "      <td>0.350</td>\n",
       "      <td>0.110</td>\n",
       "      <td>0.4060</td>\n",
       "      <td>0.1675</td>\n",
       "      <td>0.0810</td>\n",
       "      <td>0.135</td>\n",
       "      <td>11.5</td>\n",
       "    </tr>\n",
       "  </tbody>\n",
       "</table>\n",
       "</div>"
      ],
      "text/plain": [
       "     Lenght  Diameter  Height  Whole weight  Shucked weight  Viscera weight  \\\n",
       "Sex                                                                           \n",
       "M     0.455     0.365   0.095        0.5140          0.2245          0.1010   \n",
       "M     0.350     0.265   0.090        0.2255          0.0995          0.0485   \n",
       "M     0.440     0.365   0.125        0.5160          0.2155          0.1140   \n",
       "M     0.475     0.370   0.125        0.5095          0.2165          0.1125   \n",
       "M     0.430     0.350   0.110        0.4060          0.1675          0.0810   \n",
       "\n",
       "     Shell weight  Rings  \n",
       "Sex                       \n",
       "M           0.150   16.5  \n",
       "M           0.070    8.5  \n",
       "M           0.155   11.5  \n",
       "M           0.165   10.5  \n",
       "M           0.135   11.5  "
      ]
     },
     "execution_count": 64,
     "metadata": {},
     "output_type": "execute_result"
    }
   ],
   "source": [
    "dat3 = dat.loc['M']\n",
    "dat3.head()"
   ]
  },
  {
   "cell_type": "code",
   "execution_count": 67,
   "metadata": {
    "collapsed": true
   },
   "outputs": [
    {
     "data": {
      "text/html": [
       "<div>\n",
       "<style scoped>\n",
       "    .dataframe tbody tr th:only-of-type {\n",
       "        vertical-align: middle;\n",
       "    }\n",
       "\n",
       "    .dataframe tbody tr th {\n",
       "        vertical-align: top;\n",
       "    }\n",
       "\n",
       "    .dataframe thead th {\n",
       "        text-align: right;\n",
       "    }\n",
       "</style>\n",
       "<table border=\"1\" class=\"dataframe\">\n",
       "  <thead>\n",
       "    <tr style=\"text-align: right;\">\n",
       "      <th></th>\n",
       "      <th>Lenght</th>\n",
       "      <th>Diameter</th>\n",
       "      <th>Height</th>\n",
       "      <th>Whole weight</th>\n",
       "      <th>Shucked weight</th>\n",
       "      <th>Viscera weight</th>\n",
       "      <th>Shell weight</th>\n",
       "      <th>Rings</th>\n",
       "    </tr>\n",
       "  </thead>\n",
       "  <tbody>\n",
       "    <tr>\n",
       "      <th>count</th>\n",
       "      <td>1528.000000</td>\n",
       "      <td>1528.000000</td>\n",
       "      <td>1528.000000</td>\n",
       "      <td>1528.000000</td>\n",
       "      <td>1528.000000</td>\n",
       "      <td>1528.000000</td>\n",
       "      <td>1528.000000</td>\n",
       "      <td>1528.000000</td>\n",
       "    </tr>\n",
       "    <tr>\n",
       "      <th>mean</th>\n",
       "      <td>0.561391</td>\n",
       "      <td>0.439287</td>\n",
       "      <td>0.151381</td>\n",
       "      <td>0.991459</td>\n",
       "      <td>0.432946</td>\n",
       "      <td>0.215545</td>\n",
       "      <td>0.281969</td>\n",
       "      <td>12.205497</td>\n",
       "    </tr>\n",
       "    <tr>\n",
       "      <th>std</th>\n",
       "      <td>0.102697</td>\n",
       "      <td>0.084398</td>\n",
       "      <td>0.034804</td>\n",
       "      <td>0.470581</td>\n",
       "      <td>0.223000</td>\n",
       "      <td>0.104919</td>\n",
       "      <td>0.130834</td>\n",
       "      <td>3.026349</td>\n",
       "    </tr>\n",
       "    <tr>\n",
       "      <th>min</th>\n",
       "      <td>0.155000</td>\n",
       "      <td>0.110000</td>\n",
       "      <td>0.025000</td>\n",
       "      <td>0.015500</td>\n",
       "      <td>0.006500</td>\n",
       "      <td>0.003000</td>\n",
       "      <td>0.005000</td>\n",
       "      <td>4.500000</td>\n",
       "    </tr>\n",
       "    <tr>\n",
       "      <th>25%</th>\n",
       "      <td>0.505000</td>\n",
       "      <td>0.395000</td>\n",
       "      <td>0.130000</td>\n",
       "      <td>0.671625</td>\n",
       "      <td>0.276375</td>\n",
       "      <td>0.145875</td>\n",
       "      <td>0.190000</td>\n",
       "      <td>10.500000</td>\n",
       "    </tr>\n",
       "    <tr>\n",
       "      <th>50%</th>\n",
       "      <td>0.580000</td>\n",
       "      <td>0.455000</td>\n",
       "      <td>0.155000</td>\n",
       "      <td>0.975750</td>\n",
       "      <td>0.421750</td>\n",
       "      <td>0.210000</td>\n",
       "      <td>0.276000</td>\n",
       "      <td>11.500000</td>\n",
       "    </tr>\n",
       "    <tr>\n",
       "      <th>75%</th>\n",
       "      <td>0.630000</td>\n",
       "      <td>0.500000</td>\n",
       "      <td>0.175000</td>\n",
       "      <td>1.265625</td>\n",
       "      <td>0.566000</td>\n",
       "      <td>0.278000</td>\n",
       "      <td>0.355500</td>\n",
       "      <td>13.500000</td>\n",
       "    </tr>\n",
       "    <tr>\n",
       "      <th>max</th>\n",
       "      <td>0.780000</td>\n",
       "      <td>0.630000</td>\n",
       "      <td>0.515000</td>\n",
       "      <td>2.825500</td>\n",
       "      <td>1.351000</td>\n",
       "      <td>0.760000</td>\n",
       "      <td>0.897000</td>\n",
       "      <td>28.500000</td>\n",
       "    </tr>\n",
       "  </tbody>\n",
       "</table>\n",
       "</div>"
      ],
      "text/plain": [
       "            Lenght     Diameter       Height  Whole weight  Shucked weight  \\\n",
       "count  1528.000000  1528.000000  1528.000000   1528.000000     1528.000000   \n",
       "mean      0.561391     0.439287     0.151381      0.991459        0.432946   \n",
       "std       0.102697     0.084398     0.034804      0.470581        0.223000   \n",
       "min       0.155000     0.110000     0.025000      0.015500        0.006500   \n",
       "25%       0.505000     0.395000     0.130000      0.671625        0.276375   \n",
       "50%       0.580000     0.455000     0.155000      0.975750        0.421750   \n",
       "75%       0.630000     0.500000     0.175000      1.265625        0.566000   \n",
       "max       0.780000     0.630000     0.515000      2.825500        1.351000   \n",
       "\n",
       "       Viscera weight  Shell weight        Rings  \n",
       "count     1528.000000   1528.000000  1528.000000  \n",
       "mean         0.215545      0.281969    12.205497  \n",
       "std          0.104919      0.130834     3.026349  \n",
       "min          0.003000      0.005000     4.500000  \n",
       "25%          0.145875      0.190000    10.500000  \n",
       "50%          0.210000      0.276000    11.500000  \n",
       "75%          0.278000      0.355500    13.500000  \n",
       "max          0.760000      0.897000    28.500000  "
      ]
     },
     "execution_count": 67,
     "metadata": {},
     "output_type": "execute_result"
    }
   ],
   "source": [
    "dat3_desc = dat3.describe()\n",
    "dat3_desc"
   ]
  },
  {
   "cell_type": "code",
   "execution_count": 68,
   "metadata": {
    "collapsed": true
   },
   "outputs": [
    {
     "data": {
      "text/plain": [
       "M    1528\n",
       "I    1342\n",
       "F    1307\n",
       "Name: Sex, dtype: int64"
      ]
     },
     "execution_count": 68,
     "metadata": {},
     "output_type": "execute_result"
    }
   ],
   "source": [
    "ds=data.Sex.value_counts()\n",
    "ds"
   ]
  },
  {
   "cell_type": "code",
   "execution_count": 69,
   "metadata": {
    "collapsed": true
   },
   "outputs": [
    {
     "data": {
      "text/plain": [
       "array([  1,   1,   1,   1,   1,   2,   2,   6,   9,  14,  15,  26,  32,\n",
       "        42,  57,  58,  67, 103, 115, 126, 203, 259, 267, 391, 487, 568,\n",
       "       634, 689], dtype=int64)"
      ]
     },
     "execution_count": 69,
     "metadata": {},
     "output_type": "execute_result"
    }
   ],
   "source": [
    "dr=data.Rings.value_counts()\n",
    "np.sort(dr)"
   ]
  },
  {
   "cell_type": "code",
   "execution_count": 6,
   "metadata": {},
   "outputs": [
    {
     "data": {
      "text/html": [
       "<div>\n",
       "<style scoped>\n",
       "    .dataframe tbody tr th:only-of-type {\n",
       "        vertical-align: middle;\n",
       "    }\n",
       "\n",
       "    .dataframe tbody tr th {\n",
       "        vertical-align: top;\n",
       "    }\n",
       "\n",
       "    .dataframe thead th {\n",
       "        text-align: right;\n",
       "    }\n",
       "</style>\n",
       "<table border=\"1\" class=\"dataframe\">\n",
       "  <thead>\n",
       "    <tr style=\"text-align: right;\">\n",
       "      <th>Rings</th>\n",
       "      <th>Max Rings</th>\n",
       "      <th>Min Rings</th>\n",
       "    </tr>\n",
       "    <tr>\n",
       "      <th>Sex</th>\n",
       "      <th></th>\n",
       "      <th></th>\n",
       "    </tr>\n",
       "  </thead>\n",
       "  <tbody>\n",
       "    <tr>\n",
       "      <th>F</th>\n",
       "      <td>30.5</td>\n",
       "      <td>6.5</td>\n",
       "    </tr>\n",
       "    <tr>\n",
       "      <th>I</th>\n",
       "      <td>22.5</td>\n",
       "      <td>2.5</td>\n",
       "    </tr>\n",
       "    <tr>\n",
       "      <th>M</th>\n",
       "      <td>28.5</td>\n",
       "      <td>4.5</td>\n",
       "    </tr>\n",
       "  </tbody>\n",
       "</table>\n",
       "</div>"
      ],
      "text/plain": [
       "Rings  Max Rings  Min Rings\n",
       "Sex                        \n",
       "F           30.5        6.5\n",
       "I           22.5        2.5\n",
       "M           28.5        4.5"
      ]
     },
     "execution_count": 6,
     "metadata": {},
     "output_type": "execute_result"
    }
   ],
   "source": [
    "ftt = data.groupby('Sex').Rings.max()\n",
    "fts = data.groupby('Sex').Rings.min()\n",
    "ft=pd.concat([ftt, fts], axis=1, ignore_index=True)\n",
    "ft.columns=['Max Rings', 'Min Rings']\n",
    "ft.columns.name='Rings'\n",
    "ft"
   ]
  },
  {
   "cell_type": "code",
   "execution_count": 42,
   "metadata": {},
   "outputs": [
    {
     "data": {
      "text/html": [
       "<div>\n",
       "<style scoped>\n",
       "    .dataframe tbody tr th:only-of-type {\n",
       "        vertical-align: middle;\n",
       "    }\n",
       "\n",
       "    .dataframe tbody tr th {\n",
       "        vertical-align: top;\n",
       "    }\n",
       "\n",
       "    .dataframe thead th {\n",
       "        text-align: right;\n",
       "    }\n",
       "</style>\n",
       "<table border=\"1\" class=\"dataframe\">\n",
       "  <thead>\n",
       "    <tr style=\"text-align: right;\">\n",
       "      <th>Rings</th>\n",
       "      <th>2.5</th>\n",
       "      <th>3.5</th>\n",
       "      <th>4.5</th>\n",
       "      <th>5.5</th>\n",
       "      <th>6.5</th>\n",
       "      <th>7.5</th>\n",
       "      <th>8.5</th>\n",
       "      <th>9.5</th>\n",
       "      <th>10.5</th>\n",
       "      <th>11.5</th>\n",
       "      <th>...</th>\n",
       "      <th>20.5</th>\n",
       "      <th>21.5</th>\n",
       "      <th>22.5</th>\n",
       "      <th>23.5</th>\n",
       "      <th>24.5</th>\n",
       "      <th>25.5</th>\n",
       "      <th>26.5</th>\n",
       "      <th>27.5</th>\n",
       "      <th>28.5</th>\n",
       "      <th>30.5</th>\n",
       "    </tr>\n",
       "    <tr>\n",
       "      <th>Sex</th>\n",
       "      <th></th>\n",
       "      <th></th>\n",
       "      <th></th>\n",
       "      <th></th>\n",
       "      <th></th>\n",
       "      <th></th>\n",
       "      <th></th>\n",
       "      <th></th>\n",
       "      <th></th>\n",
       "      <th></th>\n",
       "      <th></th>\n",
       "      <th></th>\n",
       "      <th></th>\n",
       "      <th></th>\n",
       "      <th></th>\n",
       "      <th></th>\n",
       "      <th></th>\n",
       "      <th></th>\n",
       "      <th></th>\n",
       "      <th></th>\n",
       "      <th></th>\n",
       "    </tr>\n",
       "  </thead>\n",
       "  <tbody>\n",
       "    <tr>\n",
       "      <th>F</th>\n",
       "      <td>0.0</td>\n",
       "      <td>0.0</td>\n",
       "      <td>0.0</td>\n",
       "      <td>0.0</td>\n",
       "      <td>4.0</td>\n",
       "      <td>16.0</td>\n",
       "      <td>44.0</td>\n",
       "      <td>122.0</td>\n",
       "      <td>238.0</td>\n",
       "      <td>248.0</td>\n",
       "      <td>...</td>\n",
       "      <td>15.0</td>\n",
       "      <td>12.0</td>\n",
       "      <td>7.0</td>\n",
       "      <td>3.0</td>\n",
       "      <td>6.0</td>\n",
       "      <td>1.0</td>\n",
       "      <td>1.0</td>\n",
       "      <td>0.0</td>\n",
       "      <td>1.0</td>\n",
       "      <td>1.0</td>\n",
       "    </tr>\n",
       "    <tr>\n",
       "      <th>I</th>\n",
       "      <td>1.0</td>\n",
       "      <td>1.0</td>\n",
       "      <td>12.0</td>\n",
       "      <td>51.0</td>\n",
       "      <td>100.0</td>\n",
       "      <td>216.0</td>\n",
       "      <td>267.0</td>\n",
       "      <td>274.0</td>\n",
       "      <td>173.0</td>\n",
       "      <td>92.0</td>\n",
       "      <td>...</td>\n",
       "      <td>2.0</td>\n",
       "      <td>2.0</td>\n",
       "      <td>1.0</td>\n",
       "      <td>0.0</td>\n",
       "      <td>0.0</td>\n",
       "      <td>0.0</td>\n",
       "      <td>0.0</td>\n",
       "      <td>0.0</td>\n",
       "      <td>0.0</td>\n",
       "      <td>0.0</td>\n",
       "    </tr>\n",
       "    <tr>\n",
       "      <th>M</th>\n",
       "      <td>0.0</td>\n",
       "      <td>0.0</td>\n",
       "      <td>3.0</td>\n",
       "      <td>6.0</td>\n",
       "      <td>11.0</td>\n",
       "      <td>27.0</td>\n",
       "      <td>80.0</td>\n",
       "      <td>172.0</td>\n",
       "      <td>278.0</td>\n",
       "      <td>294.0</td>\n",
       "      <td>...</td>\n",
       "      <td>15.0</td>\n",
       "      <td>12.0</td>\n",
       "      <td>6.0</td>\n",
       "      <td>3.0</td>\n",
       "      <td>3.0</td>\n",
       "      <td>1.0</td>\n",
       "      <td>0.0</td>\n",
       "      <td>1.0</td>\n",
       "      <td>1.0</td>\n",
       "      <td>0.0</td>\n",
       "    </tr>\n",
       "  </tbody>\n",
       "</table>\n",
       "<p>3 rows × 28 columns</p>\n",
       "</div>"
      ],
      "text/plain": [
       "Rings  2.5   3.5   4.5   5.5    6.5    7.5    8.5    9.5    10.5   11.5  ...  \\\n",
       "Sex                                                                      ...   \n",
       "F       0.0   0.0   0.0   0.0    4.0   16.0   44.0  122.0  238.0  248.0  ...   \n",
       "I       1.0   1.0  12.0  51.0  100.0  216.0  267.0  274.0  173.0   92.0  ...   \n",
       "M       0.0   0.0   3.0   6.0   11.0   27.0   80.0  172.0  278.0  294.0  ...   \n",
       "\n",
       "Rings  20.5  21.5  22.5  23.5  24.5  25.5  26.5  27.5  28.5  30.5  \n",
       "Sex                                                                \n",
       "F      15.0  12.0   7.0   3.0   6.0   1.0   1.0   0.0   1.0   1.0  \n",
       "I       2.0   2.0   1.0   0.0   0.0   0.0   0.0   0.0   0.0   0.0  \n",
       "M      15.0  12.0   6.0   3.0   3.0   1.0   0.0   1.0   1.0   0.0  \n",
       "\n",
       "[3 rows x 28 columns]"
      ]
     },
     "execution_count": 42,
     "metadata": {},
     "output_type": "execute_result"
    }
   ],
   "source": [
    "dt= data.groupby(['Sex', 'Rings'])\n",
    "dts = dt.size().unstack().fillna(0)\n",
    "inds = dts.sum(1).argsort()\n",
    "dtt= dts.take(inds)\n",
    "dtt"
   ]
  },
  {
   "cell_type": "code",
   "execution_count": 8,
   "metadata": {
    "collapsed": true
   },
   "outputs": [
    {
     "data": {
      "text/plain": [
       "Rings\n",
       "2.5       0.0\n",
       "3.5       0.0\n",
       "4.5       0.0\n",
       "5.5       0.0\n",
       "6.5       4.0\n",
       "7.5      16.0\n",
       "8.5      44.0\n",
       "9.5     122.0\n",
       "10.5    238.0\n",
       "11.5    248.0\n",
       "12.5    200.0\n",
       "13.5    128.0\n",
       "14.5     88.0\n",
       "15.5     56.0\n",
       "16.5     41.0\n",
       "17.5     30.0\n",
       "18.5     26.0\n",
       "19.5     19.0\n",
       "20.5     15.0\n",
       "21.5     12.0\n",
       "22.5      7.0\n",
       "23.5      3.0\n",
       "24.5      6.0\n",
       "25.5      1.0\n",
       "26.5      1.0\n",
       "27.5      0.0\n",
       "28.5      1.0\n",
       "30.5      1.0\n",
       "Name: F, dtype: float64"
      ]
     },
     "execution_count": 8,
     "metadata": {},
     "output_type": "execute_result"
    }
   ],
   "source": [
    "#Data on Female\n",
    "dlf = dtt.loc['F']\n",
    "dlf\n",
    "#Has highest ring value of 248.0 at 11.5Rings"
   ]
  },
  {
   "cell_type": "code",
   "execution_count": 9,
   "metadata": {
    "collapsed": true
   },
   "outputs": [
    {
     "data": {
      "text/plain": [
       "Rings\n",
       "2.5       0.0\n",
       "3.5       0.0\n",
       "4.5       3.0\n",
       "5.5       6.0\n",
       "6.5      11.0\n",
       "7.5      27.0\n",
       "8.5      80.0\n",
       "9.5     172.0\n",
       "10.5    278.0\n",
       "11.5    294.0\n",
       "12.5    225.0\n",
       "13.5    118.0\n",
       "14.5     91.0\n",
       "15.5     56.0\n",
       "16.5     52.0\n",
       "17.5     30.0\n",
       "18.5     25.0\n",
       "19.5     18.0\n",
       "20.5     15.0\n",
       "21.5     12.0\n",
       "22.5      6.0\n",
       "23.5      3.0\n",
       "24.5      3.0\n",
       "25.5      1.0\n",
       "26.5      0.0\n",
       "27.5      1.0\n",
       "28.5      1.0\n",
       "30.5      0.0\n",
       "Name: M, dtype: float64"
      ]
     },
     "execution_count": 9,
     "metadata": {},
     "output_type": "execute_result"
    }
   ],
   "source": [
    "#Data on Male\n",
    "dlm = dtt.loc['M']\n",
    "dlm\n",
    "#Has highest ring value of 294.0 at 11.5Rings"
   ]
  },
  {
   "cell_type": "code",
   "execution_count": 10,
   "metadata": {
    "collapsed": true
   },
   "outputs": [
    {
     "data": {
      "text/plain": [
       "Rings\n",
       "2.5       1.0\n",
       "3.5       1.0\n",
       "4.5      12.0\n",
       "5.5      51.0\n",
       "6.5     100.0\n",
       "7.5     216.0\n",
       "8.5     267.0\n",
       "9.5     274.0\n",
       "10.5    173.0\n",
       "11.5     92.0\n",
       "12.5     62.0\n",
       "13.5     21.0\n",
       "14.5     24.0\n",
       "15.5     14.0\n",
       "16.5     10.0\n",
       "17.5      7.0\n",
       "18.5      7.0\n",
       "19.5      5.0\n",
       "20.5      2.0\n",
       "21.5      2.0\n",
       "22.5      1.0\n",
       "23.5      0.0\n",
       "24.5      0.0\n",
       "25.5      0.0\n",
       "26.5      0.0\n",
       "27.5      0.0\n",
       "28.5      0.0\n",
       "30.5      0.0\n",
       "Name: I, dtype: float64"
      ]
     },
     "execution_count": 10,
     "metadata": {},
     "output_type": "execute_result"
    }
   ],
   "source": [
    "#data on Infant\n",
    "dli = dtt.loc['I']\n",
    "dli\n",
    "#Has highest ring value of 274.0 at 9.5Rings"
   ]
  },
  {
   "cell_type": "code",
   "execution_count": 11,
   "metadata": {
    "collapsed": true
   },
   "outputs": [
    {
     "data": {
      "image/png": "[encoded data removed]",
      "text/plain": [
       "<Figure size 432x288 with 1 Axes>"
      ]
     },
     "metadata": {
      "needs_background": "light"
     },
     "output_type": "display_data"
    }
   ],
   "source": [
    "dlf.plot(color='r')\n",
    "dlm.plot(color='k')\n",
    "dli.plot(color='c')\n",
    "plt.show()\n",
    "#From the graph, it shows that "
   ]
  },
  {
   "cell_type": "markdown",
   "metadata": {},
   "source": [
    "Rings\n",
    "The male has more rings followed by the \n",
    "infant and the female."
   ]
  },
  {
   "cell_type": "code",
   "execution_count": 41,
   "metadata": {
    "collapsed": true
   },
   "outputs": [
    {
     "data": {
      "text/plain": [
       "Sex  Lenght\n",
       "F    0.625     43\n",
       "     0.580     40\n",
       "     0.620     39\n",
       "     0.600     35\n",
       "     0.645     34\n",
       "               ..\n",
       "M    0.300      1\n",
       "     0.315      1\n",
       "     0.435      1\n",
       "     0.755      1\n",
       "     0.780      1\n",
       "Name: Lenght, Length: 317, dtype: int64"
      ]
     },
     "execution_count": 41,
     "metadata": {},
     "output_type": "execute_result"
    }
   ],
   "source": [
    "ddl= data.groupby('Sex').Lenght.value_counts()\n",
    "#ddl.isnull().sum() gives a 0\n",
    "ddl"
   ]
  },
  {
   "cell_type": "code",
   "execution_count": 59,
   "metadata": {
    "collapsed": true
   },
   "outputs": [
    {
     "data": {
      "image/png": "[encoded data removed]",
      "text/plain": [
       "<Figure size 432x288 with 1 Axes>"
      ]
     },
     "metadata": {
      "needs_background": "light"
     },
     "output_type": "display_data"
    }
   ],
   "source": [
    "ddl.plot()\n",
    "plt.show()\n",
    "#The male posseses more lenght than the female and infant"
   ]
  },
  {
   "cell_type": "code",
   "execution_count": 40,
   "metadata": {
    "collapsed": true
   },
   "outputs": [
    {
     "data": {
      "text/plain": [
       "Sex  Diameter\n",
       "F    0.500       64\n",
       "     0.475       56\n",
       "     0.450       49\n",
       "     0.485       42\n",
       "     0.480       39\n",
       "                 ..\n",
       "M    0.170        1\n",
       "     0.190        1\n",
       "     0.220        1\n",
       "     0.620        1\n",
       "     0.630        1\n",
       "Name: Diameter, Length: 268, dtype: int64"
      ]
     },
     "execution_count": 40,
     "metadata": {},
     "output_type": "execute_result"
    }
   ],
   "source": [
    "ddd= data.groupby('Sex').Diameter.value_counts()\n",
    "#ddd.isnull().sum() gives a 0\n",
    "ddd"
   ]
  },
  {
   "cell_type": "code",
   "execution_count": 70,
   "metadata": {
    "collapsed": true
   },
   "outputs": [
    {
     "data": {
      "image/png": "[encoded data removed]",
      "text/plain": [
       "<Figure size 432x288 with 1 Axes>"
      ]
     },
     "metadata": {
      "needs_background": "light"
     },
     "output_type": "display_data"
    }
   ],
   "source": [
    "ddd.plot()\n",
    "plt.show()\n",
    "#The male posseses a larger diameter than the female and infant"
   ]
  },
  {
   "cell_type": "code",
   "execution_count": 44,
   "metadata": {
    "collapsed": true
   },
   "outputs": [
    {
     "data": {
      "text/plain": [
       "Sex  Height\n",
       "F    0.150     113\n",
       "     0.175      96\n",
       "     0.160      91\n",
       "     0.165      90\n",
       "     0.170      86\n",
       "              ... \n",
       "M    0.070       2\n",
       "     0.025       1\n",
       "     0.045       1\n",
       "     0.250       1\n",
       "     0.515       1\n",
       "Name: Height, Length: 125, dtype: int64"
      ]
     },
     "execution_count": 44,
     "metadata": {},
     "output_type": "execute_result"
    }
   ],
   "source": [
    "ddh= data.groupby('Sex').Height.value_counts()\n",
    "#ddh.isnull().sum() gives a 0\n",
    "ddh"
   ]
  },
  {
   "cell_type": "code",
   "execution_count": 57,
   "metadata": {
    "collapsed": true
   },
   "outputs": [
    {
     "data": {
      "image/png": "[encoded data removed]",
      "text/plain": [
       "<Figure size 432x288 with 1 Axes>"
      ]
     },
     "metadata": {
      "needs_background": "light"
     },
     "output_type": "display_data"
    }
   ],
   "source": [
    "ddh.plot()\n",
    "plt.show()\n",
    "#The height of the male, female and infant are close in range"
   ]
  },
  {
   "cell_type": "code",
   "execution_count": 84,
   "metadata": {
    "collapsed": true
   },
   "outputs": [
    {
     "data": {
      "text/plain": [
       "Sex  Whole weight\n",
       "F    1.1345          7\n",
       "     0.5885          4\n",
       "     0.6355          4\n",
       "     1.1155          4\n",
       "     1.2895          4\n",
       "                    ..\n",
       "M    2.5155          1\n",
       "     2.5480          1\n",
       "     2.5500          1\n",
       "     2.7795          1\n",
       "     2.8255          1\n",
       "Name: Whole weight, Length: 3271, dtype: int64"
      ]
     },
     "execution_count": 84,
     "metadata": {},
     "output_type": "execute_result"
    }
   ],
   "source": [
    "ddww= data.groupby('Sex')['Whole weight'].value_counts()\n",
    "#ddww.isnull().sum() gives a 0\n",
    "ddww"
   ]
  },
  {
   "cell_type": "code",
   "execution_count": 56,
   "metadata": {
    "collapsed": true
   },
   "outputs": [
    {
     "data": {
      "image/png": "[encoded data removed]",
      "text/plain": [
       "<Figure size 432x288 with 1 Axes>"
      ]
     },
     "metadata": {
      "needs_background": "light"
     },
     "output_type": "display_data"
    }
   ],
   "source": [
    "ddww.plot()\n",
    "plt.show()\n",
    "#The infant posseses more weight compared to the male and female"
   ]
  },
  {
   "cell_type": "code",
   "execution_count": 48,
   "metadata": {
    "collapsed": true
   },
   "outputs": [
    {
     "data": {
      "text/plain": [
       "Sex  Shucked weight\n",
       "F    0.1650            6\n",
       "     0.3020            5\n",
       "     0.3910            5\n",
       "     0.5415            5\n",
       "     0.1920            4\n",
       "                      ..\n",
       "M    1.1945            1\n",
       "     1.2455            1\n",
       "     1.2530            1\n",
       "     1.3485            1\n",
       "     1.3510            1\n",
       "Name: Shucked weight, Length: 2531, dtype: int64"
      ]
     },
     "execution_count": 48,
     "metadata": {},
     "output_type": "execute_result"
    }
   ],
   "source": [
    "ddsw= data.groupby('Sex')['Shucked weight'].value_counts()\n",
    "#ddsw.isnull().sum() gives a 0\n",
    "ddsw"
   ]
  },
  {
   "cell_type": "code",
   "execution_count": 85,
   "metadata": {
    "collapsed": true
   },
   "outputs": [
    {
     "data": {
      "image/png": "[encoded data removed]",
      "text/plain": [
       "<Figure size 432x288 with 1 Axes>"
      ]
     },
     "metadata": {
      "needs_background": "light"
     },
     "output_type": "display_data"
    }
   ],
   "source": [
    "ddsw.plot()\n",
    "plt.show()\n",
    "#The infant posseses more shucked weight than the male and female"
   ]
  },
  {
   "cell_type": "code",
   "execution_count": 49,
   "metadata": {
    "collapsed": true
   },
   "outputs": [
    {
     "data": {
      "text/plain": [
       "Sex  Viscera weight\n",
       "F    0.1960            9\n",
       "     0.1715            8\n",
       "     0.3180            8\n",
       "     0.2070            7\n",
       "     0.2390            7\n",
       "                      ..\n",
       "M    0.5640            1\n",
       "     0.5745            1\n",
       "     0.5750            1\n",
       "     0.6415            1\n",
       "     0.7600            1\n",
       "Name: Viscera weight, Length: 1747, dtype: int64"
      ]
     },
     "execution_count": 49,
     "metadata": {},
     "output_type": "execute_result"
    }
   ],
   "source": [
    "ddvw= data.groupby('Sex')['Viscera weight'].value_counts()\n",
    "#ddvw.isnull().sum() gives a 0\n",
    "ddvw"
   ]
  },
  {
   "cell_type": "code",
   "execution_count": 54,
   "metadata": {
    "collapsed": true
   },
   "outputs": [
    {
     "data": {
      "image/png": "[encoded data removed]",
      "text/plain": [
       "<Figure size 432x288 with 1 Axes>"
      ]
     },
     "metadata": {
      "needs_background": "light"
     },
     "output_type": "display_data"
    }
   ],
   "source": [
    "ddvw.plot()\n",
    "plt.show()\n",
    "#The infant has more Viscera weight than the male and female"
   ]
  },
  {
   "cell_type": "code",
   "execution_count": 52,
   "metadata": {
    "collapsed": true
   },
   "outputs": [
    {
     "data": {
      "text/plain": [
       "Sex  Shell weight\n",
       "F    0.320           19\n",
       "     0.265           18\n",
       "     0.275           18\n",
       "     0.315           18\n",
       "     0.355           17\n",
       "                     ..\n",
       "M    0.700            1\n",
       "     0.760            1\n",
       "     0.780            1\n",
       "     0.885            1\n",
       "     0.897            1\n",
       "Name: Shell weight, Length: 1489, dtype: int64"
      ]
     },
     "execution_count": 52,
     "metadata": {},
     "output_type": "execute_result"
    }
   ],
   "source": [
    "ddshw= data.groupby('Sex')['Shell weight'].value_counts()\n",
    "#ddshw.isnull().sum() gives a 0\n",
    "ddshw"
   ]
  },
  {
   "cell_type": "code",
   "execution_count": 86,
   "metadata": {
    "collapsed": true
   },
   "outputs": [
    {
     "data": {
      "image/png": "[encoded data removed]",
      "text/plain": [
       "<Figure size 432x288 with 1 Axes>"
      ]
     },
     "metadata": {
      "needs_background": "light"
     },
     "output_type": "display_data"
    }
   ],
   "source": [
    "ddshw.plot()\n",
    "plt.show()\n",
    "#The infant has more shell weight than the male and then the female"
   ]
  },
  {
   "cell_type": "markdown",
   "metadata": {},
   "source": [
    "Conclusion\n",
    "The male possese more of the Height, Lenght \n",
    "and Diameter when compared to the female and infant.\n",
    "The infant on the other hand posses more of the weight\n",
    "(i.e weight, Whole weight, Shucked weight, Viscera \n",
    "weight, Shell weight) than the male and female"
   ]
  }
 ],
 "metadata": {
  "kernelspec": {
   "display_name": "Python 3",
   "language": "python",
   "name": "python3"
  },
  "language_info": {
   "codemirror_mode": {
    "name": "ipython",
    "version": 3
   },
   "file_extension": ".py",
   "mimetype": "text/x-python",
   "name": "python",
   "nbconvert_exporter": "python",
   "pygments_lexer": "ipython3",
   "version": "3.7.4"
  }
 },
 "nbformat": 4,
 "nbformat_minor": 2
}
